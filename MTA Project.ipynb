{
 "cells": [
  {
   "cell_type": "markdown",
   "id": "4fb9e20f",
   "metadata": {},
   "source": [
    "# SADAIA: Data Science Bootcamp "
   ]
  },
  {
   "cell_type": "markdown",
   "id": "56982c6d",
   "metadata": {},
   "source": [
    "#### Security First Agency (SFA) Project For Securing MTA's Stations\n"
   ]
  },
  {
   "cell_type": "markdown",
   "id": "58a45e4f",
   "metadata": {},
   "source": [
    "### Summery:\n",
    "Metropolitan Transportation Authority (MTA) has been receiving a lot of complaining messages from commuters that there are many stealing and harm events in stations, and they realize that their stations need more securing controls. But unfortunately, they don’t have enough budget to do so. So, they decided to hire Security First Agency (SFA) and ask them to make MTA’s stations more secure with less cost as possible.\n"
   ]
  },
  {
   "cell_type": "code",
   "execution_count": null,
   "id": "6a086962",
   "metadata": {},
   "outputs": [],
   "source": []
  },
  {
   "cell_type": "code",
   "execution_count": null,
   "id": "157db995",
   "metadata": {},
   "outputs": [],
   "source": [
    "conda install -c https://conda.anaconda.org/plotly plotly"
   ]
  },
  {
   "cell_type": "code",
   "execution_count": 88,
   "id": "b677ea07",
   "metadata": {},
   "outputs": [],
   "source": [
    "import pandas as pd\n",
    "import datetime\n",
    "import matplotlib.pyplot as plt\n",
    "import seaborn as sns\n",
    "import numpy as np\n",
    "from functools import partial, reduce\n",
    "from sqlalchemy import create_engine\n",
    "import plotly.graph_objects as go\n",
    "from sqlalchemy import create_engine"
   ]
  },
  {
   "cell_type": "code",
   "execution_count": 39,
   "id": "82f95aee",
   "metadata": {},
   "outputs": [
    {
     "data": {
      "text/plain": [
       "'/Users/norahalqahtani/gitfolder'"
      ]
     },
     "execution_count": 39,
     "metadata": {},
     "output_type": "execute_result"
    }
   ],
   "source": [
    "pwd"
   ]
  },
  {
   "cell_type": "code",
   "execution_count": null,
   "id": "c65d077a",
   "metadata": {},
   "outputs": [],
   "source": [
    "\n",
    "# \n",
    "# download MTA dataset from Source: http://web.mta.info/developers/turnstile.html. and creating DATE_TIME column\n",
    "\n",
    "def get_data_parse_dt(week_nums):\n",
    "    url = \"http://web.mta.info/developers/data/nyct/turnstile/turnstile_{}.txt\"\n",
    "    dfs = []\n",
    "    for week_num in week_nums:\n",
    "        file_url = url.format(week_num)\n",
    "        dfs.append(pd.read_csv(file_url, parse_dates=[['DATE','TIME']], keep_date_col=True))\n",
    "    return pd.concat(dfs)\n",
    "        \n",
    "week_nums = [210925 ,210918 ,210911 ,210904 ,210828 ,210821 ,210814 ,210807 ,210731 ,210724 ,210717 ,210710]\n",
    "turnstiles_df = get_data_parse_dt(week_nums)\n",
    "\n",
    "turnstiles_df.to_csv('mtadata.csv',index=False ) #to doanload our connected datasets as a csv file"
   ]
  },
  {
   "cell_type": "code",
   "execution_count": null,
   "id": "142f312c",
   "metadata": {},
   "outputs": [],
   "source": [
    "#connecting with database\n",
    "from sqlalchemy import create_engine\n",
    "engine = create_engine(\"sqlite:///mtaDB.db\")\n",
    "df = pd.read_sql('SELECT * FROM mtadata;', engine)"
   ]
  },
  {
   "cell_type": "markdown",
   "id": "cc2ec186",
   "metadata": {},
   "source": [
    "##### I have downloaded the datasets via the above methods and it has been working well.  \n",
    "but once I reopened the notebook it did not work for some reason. \n",
    "So, I tried the code below without running the above and thankfully it worked"
   ]
  },
  {
   "cell_type": "code",
   "execution_count": 90,
   "id": "d7a31766",
   "metadata": {},
   "outputs": [
    {
     "data": {
      "text/html": [
       "<div>\n",
       "<style scoped>\n",
       "    .dataframe tbody tr th:only-of-type {\n",
       "        vertical-align: middle;\n",
       "    }\n",
       "\n",
       "    .dataframe tbody tr th {\n",
       "        vertical-align: top;\n",
       "    }\n",
       "\n",
       "    .dataframe thead th {\n",
       "        text-align: right;\n",
       "    }\n",
       "</style>\n",
       "<table border=\"1\" class=\"dataframe\">\n",
       "  <thead>\n",
       "    <tr style=\"text-align: right;\">\n",
       "      <th></th>\n",
       "      <th>DATE_TIME</th>\n",
       "      <th>C/A</th>\n",
       "      <th>UNIT</th>\n",
       "      <th>SCP</th>\n",
       "      <th>STATION</th>\n",
       "      <th>LINENAME</th>\n",
       "      <th>DIVISION</th>\n",
       "      <th>DATE</th>\n",
       "      <th>TIME</th>\n",
       "      <th>DESC</th>\n",
       "      <th>ENTRIES</th>\n",
       "      <th>EXITS</th>\n",
       "    </tr>\n",
       "  </thead>\n",
       "  <tbody>\n",
       "    <tr>\n",
       "      <th>0</th>\n",
       "      <td>2021-09-18 00:00:00</td>\n",
       "      <td>A002</td>\n",
       "      <td>R051</td>\n",
       "      <td>02-00-00</td>\n",
       "      <td>59 ST</td>\n",
       "      <td>NQR456W</td>\n",
       "      <td>BMT</td>\n",
       "      <td>09/18/2021</td>\n",
       "      <td>00:00:00</td>\n",
       "      <td>REGULAR</td>\n",
       "      <td>7637026</td>\n",
       "      <td>2613455</td>\n",
       "    </tr>\n",
       "  </tbody>\n",
       "</table>\n",
       "</div>"
      ],
      "text/plain": [
       "             DATE_TIME   C/A  UNIT       SCP STATION LINENAME DIVISION  \\\n",
       "0  2021-09-18 00:00:00  A002  R051  02-00-00   59 ST  NQR456W      BMT   \n",
       "\n",
       "         DATE      TIME     DESC  ENTRIES  \\\n",
       "0  09/18/2021  00:00:00  REGULAR  7637026   \n",
       "\n",
       "   EXITS                                                                 \n",
       "0                                            2613455                     "
      ]
     },
     "execution_count": 90,
     "metadata": {},
     "output_type": "execute_result"
    }
   ],
   "source": [
    "\n",
    "\n",
    "turnstiles_df = pd.read_csv('mtadata.csv')\n",
    "turnstiles_df.head(1)"
   ]
  },
  {
   "cell_type": "code",
   "execution_count": 91,
   "id": "3296b4b6",
   "metadata": {},
   "outputs": [
    {
     "data": {
      "text/html": [
       "<div>\n",
       "<style scoped>\n",
       "    .dataframe tbody tr th:only-of-type {\n",
       "        vertical-align: middle;\n",
       "    }\n",
       "\n",
       "    .dataframe tbody tr th {\n",
       "        vertical-align: top;\n",
       "    }\n",
       "\n",
       "    .dataframe thead th {\n",
       "        text-align: right;\n",
       "    }\n",
       "</style>\n",
       "<table border=\"1\" class=\"dataframe\">\n",
       "  <thead>\n",
       "    <tr style=\"text-align: right;\">\n",
       "      <th></th>\n",
       "      <th>DATE_TIME</th>\n",
       "      <th>C/A</th>\n",
       "      <th>UNIT</th>\n",
       "      <th>SCP</th>\n",
       "      <th>STATION</th>\n",
       "      <th>LINENAME</th>\n",
       "      <th>DIVISION</th>\n",
       "      <th>DATE</th>\n",
       "      <th>TIME</th>\n",
       "      <th>DESC</th>\n",
       "      <th>ENTRIES</th>\n",
       "      <th>EXITS</th>\n",
       "    </tr>\n",
       "  </thead>\n",
       "  <tbody>\n",
       "    <tr>\n",
       "      <th>0</th>\n",
       "      <td>2021-09-18 00:00:00</td>\n",
       "      <td>A002</td>\n",
       "      <td>R051</td>\n",
       "      <td>02-00-00</td>\n",
       "      <td>59 ST</td>\n",
       "      <td>NQR456W</td>\n",
       "      <td>BMT</td>\n",
       "      <td>09/18/2021</td>\n",
       "      <td>00:00:00</td>\n",
       "      <td>REGULAR</td>\n",
       "      <td>7637026</td>\n",
       "      <td>2613455</td>\n",
       "    </tr>\n",
       "    <tr>\n",
       "      <th>1</th>\n",
       "      <td>2021-09-18 04:00:00</td>\n",
       "      <td>A002</td>\n",
       "      <td>R051</td>\n",
       "      <td>02-00-00</td>\n",
       "      <td>59 ST</td>\n",
       "      <td>NQR456W</td>\n",
       "      <td>BMT</td>\n",
       "      <td>09/18/2021</td>\n",
       "      <td>04:00:00</td>\n",
       "      <td>REGULAR</td>\n",
       "      <td>7637036</td>\n",
       "      <td>2613457</td>\n",
       "    </tr>\n",
       "    <tr>\n",
       "      <th>2</th>\n",
       "      <td>2021-09-18 08:00:00</td>\n",
       "      <td>A002</td>\n",
       "      <td>R051</td>\n",
       "      <td>02-00-00</td>\n",
       "      <td>59 ST</td>\n",
       "      <td>NQR456W</td>\n",
       "      <td>BMT</td>\n",
       "      <td>09/18/2021</td>\n",
       "      <td>08:00:00</td>\n",
       "      <td>REGULAR</td>\n",
       "      <td>7637047</td>\n",
       "      <td>2613478</td>\n",
       "    </tr>\n",
       "    <tr>\n",
       "      <th>3</th>\n",
       "      <td>2021-09-18 12:00:00</td>\n",
       "      <td>A002</td>\n",
       "      <td>R051</td>\n",
       "      <td>02-00-00</td>\n",
       "      <td>59 ST</td>\n",
       "      <td>NQR456W</td>\n",
       "      <td>BMT</td>\n",
       "      <td>09/18/2021</td>\n",
       "      <td>12:00:00</td>\n",
       "      <td>REGULAR</td>\n",
       "      <td>7637104</td>\n",
       "      <td>2613524</td>\n",
       "    </tr>\n",
       "    <tr>\n",
       "      <th>4</th>\n",
       "      <td>2021-09-18 16:00:00</td>\n",
       "      <td>A002</td>\n",
       "      <td>R051</td>\n",
       "      <td>02-00-00</td>\n",
       "      <td>59 ST</td>\n",
       "      <td>NQR456W</td>\n",
       "      <td>BMT</td>\n",
       "      <td>09/18/2021</td>\n",
       "      <td>16:00:00</td>\n",
       "      <td>REGULAR</td>\n",
       "      <td>7637236</td>\n",
       "      <td>2613561</td>\n",
       "    </tr>\n",
       "    <tr>\n",
       "      <th>...</th>\n",
       "      <td>...</td>\n",
       "      <td>...</td>\n",
       "      <td>...</td>\n",
       "      <td>...</td>\n",
       "      <td>...</td>\n",
       "      <td>...</td>\n",
       "      <td>...</td>\n",
       "      <td>...</td>\n",
       "      <td>...</td>\n",
       "      <td>...</td>\n",
       "      <td>...</td>\n",
       "      <td>...</td>\n",
       "    </tr>\n",
       "    <tr>\n",
       "      <th>2514583</th>\n",
       "      <td>2021-07-09 05:00:00</td>\n",
       "      <td>TRAM2</td>\n",
       "      <td>R469</td>\n",
       "      <td>00-05-01</td>\n",
       "      <td>RIT-ROOSEVELT</td>\n",
       "      <td>R</td>\n",
       "      <td>RIT</td>\n",
       "      <td>07/09/2021</td>\n",
       "      <td>05:00:00</td>\n",
       "      <td>REGULAR</td>\n",
       "      <td>5554</td>\n",
       "      <td>585</td>\n",
       "    </tr>\n",
       "    <tr>\n",
       "      <th>2514584</th>\n",
       "      <td>2021-07-09 09:00:00</td>\n",
       "      <td>TRAM2</td>\n",
       "      <td>R469</td>\n",
       "      <td>00-05-01</td>\n",
       "      <td>RIT-ROOSEVELT</td>\n",
       "      <td>R</td>\n",
       "      <td>RIT</td>\n",
       "      <td>07/09/2021</td>\n",
       "      <td>09:00:00</td>\n",
       "      <td>REGULAR</td>\n",
       "      <td>5554</td>\n",
       "      <td>585</td>\n",
       "    </tr>\n",
       "    <tr>\n",
       "      <th>2514585</th>\n",
       "      <td>2021-07-09 09:37:06</td>\n",
       "      <td>TRAM2</td>\n",
       "      <td>R469</td>\n",
       "      <td>00-05-01</td>\n",
       "      <td>RIT-ROOSEVELT</td>\n",
       "      <td>R</td>\n",
       "      <td>RIT</td>\n",
       "      <td>07/09/2021</td>\n",
       "      <td>09:37:06</td>\n",
       "      <td>REGULAR</td>\n",
       "      <td>5554</td>\n",
       "      <td>585</td>\n",
       "    </tr>\n",
       "    <tr>\n",
       "      <th>2514586</th>\n",
       "      <td>2021-07-09 13:00:00</td>\n",
       "      <td>TRAM2</td>\n",
       "      <td>R469</td>\n",
       "      <td>00-05-01</td>\n",
       "      <td>RIT-ROOSEVELT</td>\n",
       "      <td>R</td>\n",
       "      <td>RIT</td>\n",
       "      <td>07/09/2021</td>\n",
       "      <td>13:00:00</td>\n",
       "      <td>REGULAR</td>\n",
       "      <td>5554</td>\n",
       "      <td>585</td>\n",
       "    </tr>\n",
       "    <tr>\n",
       "      <th>2514587</th>\n",
       "      <td>2021-07-09 21:00:00</td>\n",
       "      <td>TRAM2</td>\n",
       "      <td>R469</td>\n",
       "      <td>00-05-01</td>\n",
       "      <td>RIT-ROOSEVELT</td>\n",
       "      <td>R</td>\n",
       "      <td>RIT</td>\n",
       "      <td>07/09/2021</td>\n",
       "      <td>21:00:00</td>\n",
       "      <td>REGULAR</td>\n",
       "      <td>5554</td>\n",
       "      <td>585</td>\n",
       "    </tr>\n",
       "  </tbody>\n",
       "</table>\n",
       "<p>2514588 rows × 12 columns</p>\n",
       "</div>"
      ],
      "text/plain": [
       "                   DATE_TIME    C/A  UNIT       SCP        STATION LINENAME  \\\n",
       "0        2021-09-18 00:00:00   A002  R051  02-00-00          59 ST  NQR456W   \n",
       "1        2021-09-18 04:00:00   A002  R051  02-00-00          59 ST  NQR456W   \n",
       "2        2021-09-18 08:00:00   A002  R051  02-00-00          59 ST  NQR456W   \n",
       "3        2021-09-18 12:00:00   A002  R051  02-00-00          59 ST  NQR456W   \n",
       "4        2021-09-18 16:00:00   A002  R051  02-00-00          59 ST  NQR456W   \n",
       "...                      ...    ...   ...       ...            ...      ...   \n",
       "2514583  2021-07-09 05:00:00  TRAM2  R469  00-05-01  RIT-ROOSEVELT        R   \n",
       "2514584  2021-07-09 09:00:00  TRAM2  R469  00-05-01  RIT-ROOSEVELT        R   \n",
       "2514585  2021-07-09 09:37:06  TRAM2  R469  00-05-01  RIT-ROOSEVELT        R   \n",
       "2514586  2021-07-09 13:00:00  TRAM2  R469  00-05-01  RIT-ROOSEVELT        R   \n",
       "2514587  2021-07-09 21:00:00  TRAM2  R469  00-05-01  RIT-ROOSEVELT        R   \n",
       "\n",
       "        DIVISION        DATE      TIME     DESC  ENTRIES  \\\n",
       "0            BMT  09/18/2021  00:00:00  REGULAR  7637026   \n",
       "1            BMT  09/18/2021  04:00:00  REGULAR  7637036   \n",
       "2            BMT  09/18/2021  08:00:00  REGULAR  7637047   \n",
       "3            BMT  09/18/2021  12:00:00  REGULAR  7637104   \n",
       "4            BMT  09/18/2021  16:00:00  REGULAR  7637236   \n",
       "...          ...         ...       ...      ...      ...   \n",
       "2514583      RIT  07/09/2021  05:00:00  REGULAR     5554   \n",
       "2514584      RIT  07/09/2021  09:00:00  REGULAR     5554   \n",
       "2514585      RIT  07/09/2021  09:37:06  REGULAR     5554   \n",
       "2514586      RIT  07/09/2021  13:00:00  REGULAR     5554   \n",
       "2514587      RIT  07/09/2021  21:00:00  REGULAR     5554   \n",
       "\n",
       "         EXITS                                                                 \n",
       "0                                                  2613455                     \n",
       "1                                                  2613457                     \n",
       "2                                                  2613478                     \n",
       "3                                                  2613524                     \n",
       "4                                                  2613561                     \n",
       "...                                                    ...                     \n",
       "2514583                                                585                     \n",
       "2514584                                                585                     \n",
       "2514585                                                585                     \n",
       "2514586                                                585                     \n",
       "2514587                                                585                     \n",
       "\n",
       "[2514588 rows x 12 columns]"
      ]
     },
     "execution_count": 91,
     "metadata": {},
     "output_type": "execute_result"
    }
   ],
   "source": [
    "turnstiles_df"
   ]
  },
  {
   "cell_type": "markdown",
   "id": "b3f08c75",
   "metadata": {},
   "source": [
    "###### when I used the dataframe by this way I faced another problem the data type of 'DATE_TIME' column become an objected\n",
    "instead of datetime values so I could not apply some functions in it "
   ]
  },
  {
   "cell_type": "code",
   "execution_count": null,
   "id": "4126a541",
   "metadata": {},
   "outputs": [],
   "source": [
    "print(turnstiles_df['DATE_TIME'].dtypes)\n"
   ]
  },
  {
   "cell_type": "code",
   "execution_count": null,
   "id": "9758b033",
   "metadata": {},
   "outputs": [],
   "source": [
    "#So, I droupded it then add it again with datetime values\n",
    "turnstiles_df = turnstiles_df.drop([\"DATE_TIME\"], axis=1, errors=\"ignore\")\n",
    "turnstiles_df"
   ]
  },
  {
   "cell_type": "code",
   "execution_count": null,
   "id": "19f4f3ae",
   "metadata": {},
   "outputs": [],
   "source": [
    "turnstiles_df[\"DATE_TIME\"] = pd.to_datetime(turnstiles_df.DATE + \" \" + turnstiles_df.TIME, \n",
    "                                            format=\"%m/%d/%Y %H:%M:%S\")\n",
    "turnstiles_df"
   ]
  },
  {
   "cell_type": "markdown",
   "id": "07abc1da",
   "metadata": {},
   "source": [
    "# CLEAN DATASET :\n",
    "\n",
    "\n"
   ]
  },
  {
   "cell_type": "code",
   "execution_count": null,
   "id": "978ee810",
   "metadata": {},
   "outputs": [],
   "source": [
    "#check and remove white spaces\n",
    "print(turnstiles_df.columns)\n",
    "turnstiles_df.columns = [column.strip() for column in turnstiles_df.columns]\n",
    "turnstiles_df.columns"
   ]
  },
  {
   "cell_type": "code",
   "execution_count": null,
   "id": "dd7dbebb",
   "metadata": {
    "scrolled": true
   },
   "outputs": [],
   "source": [
    "print(turnstiles_df.info())\n",
    "print(\"\\n\",turnstiles_df.describe())\n",
    "#descover nall values\n",
    "print(\"\\n\",turnstiles_df.isna().sum())\n",
    "\n",
    "print(\"\\n\", turnstiles_df.shape)"
   ]
  },
  {
   "cell_type": "code",
   "execution_count": null,
   "id": "bf74237f",
   "metadata": {
    "scrolled": true
   },
   "outputs": [],
   "source": [
    "# Sanity Check to verify that \"C/A\", \"UNIT\", \"SCP\", \"STATION\", \"DATE_TIME\" is unique\n",
    "(turnstiles_df\n",
    " .groupby([\"C/A\", \"UNIT\", \"SCP\", \"STATION\", \"DATE_TIME\"])\n",
    " .ENTRIES.count()\n",
    " .reset_index()\n",
    " .sort_values(\"ENTRIES\", ascending=False)).head(123)"
   ]
  },
  {
   "cell_type": "code",
   "execution_count": null,
   "id": "6663125b",
   "metadata": {
    "scrolled": true
   },
   "outputs": [],
   "source": [
    "# remove duplicated values\n",
    "turnstiles_df.drop_duplicates(subset = [\"C/A\", \"UNIT\", \"SCP\", \"STATION\", \"DATE_TIME\"], inplace=True)\n",
    "\n",
    "#  verify that duplicated values removed\n",
    "(turnstiles_df\n",
    " .groupby([\"C/A\", \"UNIT\", \"SCP\", \"STATION\", \"DATE_TIME\"])\n",
    " .ENTRIES.count()\n",
    " .reset_index()\n",
    " .sort_values(\"ENTRIES\", ascending=False)).head(123)"
   ]
  },
  {
   "cell_type": "code",
   "execution_count": null,
   "id": "5f85d454",
   "metadata": {},
   "outputs": [],
   "source": [
    "print(turnstiles_df.columns)\n",
    "# Drop LINENAME, DESC and DIVISION Columns.  To prevent errors in multiple run of cell, errors on drop is ignored\n",
    "turnstiles_df = turnstiles_df.drop([\"LINENAME\", \"DIVISION\", \"DESC\"], axis=1, errors=\"ignore\")\n",
    "print(\"\\n\",turnstiles_df.columns)\n",
    "print(\"\\n\", turnstiles_df.shape)"
   ]
  },
  {
   "cell_type": "code",
   "execution_count": null,
   "id": "7392eb07",
   "metadata": {},
   "outputs": [],
   "source": [
    "#create mask for a specific turnstyle at specific day\n",
    "turnstiles_df[(turnstiles_df['STATION']=='1 AV')& (turnstiles_df['UNIT']=='R248')&(turnstiles_df['C/A']=='H007')\n",
    "             &(turnstiles_df['SCP']=='00-00-00')& (turnstiles_df['DATE']=='09/18/2021')]"
   ]
  },
  {
   "cell_type": "code",
   "execution_count": null,
   "id": "20ef44b5",
   "metadata": {},
   "outputs": [],
   "source": [
    "#Create a column that called \"NAMEOFDAY\" \n",
    "turnstiles_df[\"DAY_NAME\"]= turnstiles_df[\"DATE_TIME\"].dt.day_name()\n",
    "\n",
    "turnstiles_df"
   ]
  },
  {
   "cell_type": "code",
   "execution_count": null,
   "id": "788cbb09",
   "metadata": {},
   "outputs": [],
   "source": [
    "#adding TIME_INTERVAL column to divid days into 3 parts\n",
    "turnstiles_df[\"TIME_INTERVAL\"] = (\n",
    "    np.where( (turnstiles_df.DATE_TIME.dt.hour <= 4), \"Night Period\"\n",
    "         ,np.where(\n",
    "             (turnstiles_df.DATE_TIME.dt.hour <= 12), \"Morning Period\"\n",
    "             ,np.where(\n",
    "                 (turnstiles_df.DATE_TIME.dt.hour <= 16), \"Evening Period\"\n",
    "                     ,\"Night Period\"))))\n",
    "\n",
    "turnstiles_df"
   ]
  },
  {
   "cell_type": "markdown",
   "id": "5cf09b03",
   "metadata": {},
   "source": [
    "# createing a daily dataframe"
   ]
  },
  {
   "cell_type": "code",
   "execution_count": null,
   "id": "0006bf0c",
   "metadata": {},
   "outputs": [],
   "source": [
    "#create a daily dataframe. insted of adding ENTRIES of a day we need to take the top value of a day for one turnstyle because it is refer to all intries for that day in that turnstyle\n",
    "#taking ENTRIES in acount only\n",
    "turnstiles_daily_EN = (turnstiles_df\n",
    "                        .groupby([\"C/A\", \"UNIT\", \"SCP\", \"STATION\", \"DATE\",\"DAY_NAME\"],as_index=False)\n",
    "                        .ENTRIES.first())\n",
    "\n",
    "turnstiles_daily_EN"
   ]
  },
  {
   "cell_type": "code",
   "execution_count": null,
   "id": "c70738d0",
   "metadata": {},
   "outputs": [],
   "source": [
    "#since number of entries is cumulative. we need to subtract from entries of a day the entries of the day before to get the entries of one day only\n",
    "turnstiles_daily_EN[[\"PREV_DATE\", \"PREV_ENTRIES\"]] = (turnstiles_daily_EN\n",
    "                                                       .groupby([\"C/A\", \"UNIT\", \"SCP\", \"STATION\",\"DAY_NAME\"])[\"DATE\", \"ENTRIES\"]\n",
    "                                                       .apply(lambda grp: grp.shift(1)))\n",
    "\n",
    "turnstiles_daily_EN"
   ]
  },
  {
   "cell_type": "code",
   "execution_count": null,
   "id": "6f6757f0",
   "metadata": {},
   "outputs": [],
   "source": [
    "#since number of entries is cumulative. we need to subtract from entries of a day the entries of the day before to get the entries of one day only\n",
    "turnstiles_daily_EN[[\"PREV_DATE\", \"PREV_ENTRIES\"]] = (turnstiles_daily_EN\n",
    "                                                       .groupby([\"C/A\", \"UNIT\", \"SCP\", \"STATION\"])[\"DATE\", \"ENTRIES\"]\n",
    "                                                       .apply(lambda grp: grp.shift(1)))\n",
    "\n",
    "# Drop the rows for the earliest date in the df\n",
    "turnstiles_daily_EN.dropna(subset=[\"PREV_DATE\"], axis=0, inplace=True)\n",
    "\n",
    "turnstiles_daily_EN"
   ]
  },
  {
   "cell_type": "code",
   "execution_count": null,
   "id": "70ff4533",
   "metadata": {},
   "outputs": [],
   "source": [
    "#check if there are reverse values  \n",
    "turnstiles_daily_EN[turnstiles_daily_EN[\"ENTRIES\"] < turnstiles_daily_EN[\"PREV_ENTRIES\"]]"
   ]
  },
  {
   "cell_type": "code",
   "execution_count": null,
   "id": "7761ffae",
   "metadata": {},
   "outputs": [],
   "source": [
    "# What's the deal with counter being in reverse\n",
    "mask = ((turnstiles_df[\"C/A\"] == \"A011\") & \n",
    "(turnstiles_df[\"UNIT\"] == \"R080\") & \n",
    "(turnstiles_df[\"SCP\"] == \"01-03-00\") & \n",
    "(turnstiles_df[\"STATION\"] == \"57 ST-7 AV\") &\n",
    "(turnstiles_df[\"DATE_TIME\"].dt.date == datetime.datetime(2021, 7, 4).date()))\n",
    "turnstiles_df[mask]"
   ]
  },
  {
   "cell_type": "code",
   "execution_count": null,
   "id": "be8e2122",
   "metadata": {},
   "outputs": [],
   "source": [
    "# Let's see how many stations have this problem\n",
    "\n",
    "(turnstiles_daily_EN[turnstiles_daily_EN[\"ENTRIES\"] < turnstiles_daily_EN[\"PREV_ENTRIES\"]]\n",
    "    .groupby([\"C/A\", \"UNIT\", \"SCP\", \"STATION\"])\n",
    "    .size())"
   ]
  },
  {
   "cell_type": "markdown",
   "id": "8f636242",
   "metadata": {},
   "source": [
    "# Hint"
   ]
  },
  {
   "cell_type": "markdown",
   "id": "b9a4b56a",
   "metadata": {},
   "source": [
    "\n",
    "\n",
    "we resolved problems that arise because of cumulative nature of the dataset by take the deference between ENTRIES of a day and ENTRIES of the day before\n",
    "\n",
    "Bat, there is another probles arise because of dataset nature -that is there is some days where cumulative is recordinf in reverse- the proble is the deference will become negative\n",
    "\n",
    "we solved this issue using the function bellow, where we will take the negative of the negative values\n",
    "\n",
    "*****\n",
    "\n",
    "Another thing we need to take in acount, that the counter in turnstyles sometimes do rest, So, the deference between ENTRIES in a day that the rest happen in and ENTRIES in the day befoe will be a large number which result an outlier\n",
    "\n",
    "good news, we solved outliers problem in the funtion below too\n"
   ]
  },
  {
   "cell_type": "code",
   "execution_count": null,
   "id": "19cc96e9",
   "metadata": {},
   "outputs": [],
   "source": [
    "def get_daily_counts_EN(row, max_counter):\n",
    "    counter = row[\"ENTRIES\"] - row[\"PREV_ENTRIES\"]\n",
    "    if counter < 0:\n",
    "        counter = -counter\n",
    "    if counter > max_counter:\n",
    "        print(row[\"ENTRIES\"], row[\"PREV_ENTRIES\"])\n",
    "        return 0\n",
    "    return counter\n",
    "\n",
    "# If counter is > 100000, then the counter might have been reset.  \n",
    "# Just set it to zero as different counters have different cycle limits\n",
    "_ = turnstiles_daily_EN.apply(get_daily_counts_EN, axis=1, max_counter=100000)"
   ]
  },
  {
   "cell_type": "code",
   "execution_count": null,
   "id": "8464c68e",
   "metadata": {},
   "outputs": [],
   "source": [
    "def get_daily_counts_EN(row, max_counter):\n",
    "    counter = row[\"ENTRIES\"] - row[\"PREV_ENTRIES\"]\n",
    "    if counter < 0:\n",
    "        # Maybe counter is reversed?\n",
    "        counter = -counter\n",
    "    if counter > max_counter:\n",
    "        # Maybe counter was reset to 0? \n",
    "        print(row[\"ENTRIES\"], row[\"PREV_ENTRIES\"])\n",
    "        counter = min(row[\"ENTRIES\"], row[\"PREV_ENTRIES\"])\n",
    "    if counter > max_counter:\n",
    "        # Check it again to make sure we're not still giving a counter that's too big\n",
    "        return 0\n",
    "    return counter\n",
    "\n",
    "# If counter is > 100000, then the counter might have been reset.  \n",
    "# Just set it to zero as different counters have different cycle limits\n",
    "# It'd probably be a good idea to use a number even significantly smaller than 1 million as the limit!\n",
    "turnstiles_daily_EN[\"DAILY_ENTRIES\"] = turnstiles_daily_EN.apply(get_daily_counts_EN, axis=1, max_counter=100000)"
   ]
  },
  {
   "cell_type": "code",
   "execution_count": null,
   "id": "c4aa1b1b",
   "metadata": {},
   "outputs": [],
   "source": [
    "turnstiles_daily_EN"
   ]
  },
  {
   "cell_type": "markdown",
   "id": "a336479f",
   "metadata": {},
   "source": [
    "##### now we need to create a turnstiles daily dataframe the count the EXITS \n",
    "and we need to do the same things we have done with turnstiles_daily_EN to the turnstiles_daily_EX"
   ]
  },
  {
   "cell_type": "code",
   "execution_count": null,
   "id": "91abae8f",
   "metadata": {},
   "outputs": [],
   "source": [
    "#create a daily dataframe. insted of adding EXITS of a day we need to take the top value of a day for one turnstyle because it is refer to all intries for that day in that turnstyle\n",
    "#taking EXITS in acount only\n",
    "turnstiles_daily_EX = (turnstiles_df\n",
    "                        .groupby([\"C/A\", \"UNIT\", \"SCP\", \"STATION\", \"DATE\"],as_index=False)\n",
    "                        .EXITS.first())\n",
    "\n",
    "#since number of entries is cumulative. we need to subtract from entries of a day the entries of the day before to get the entries of one day only\n",
    "turnstiles_daily_EX[[\"PREV_DATE\", \"PREV_EXITS\"]] = (turnstiles_daily_EX\n",
    "                                                       .groupby([\"C/A\", \"UNIT\", \"SCP\", \"STATION\"])[\"DATE\", \"EXITS\"]\n",
    "                                                       .apply(lambda grp: grp.shift(1)))\n",
    "# Drop the rows for the earliest date in the df\n",
    "turnstiles_daily_EX.dropna(subset=[\"PREV_DATE\"], axis=0, inplace=True)\n",
    "\n",
    "\n",
    "turnstiles_daily_EX"
   ]
  },
  {
   "cell_type": "markdown",
   "id": "c0685808",
   "metadata": {},
   "source": [
    "#### solve cumulative, reverse and rest issues in turnstiles_daily_EX"
   ]
  },
  {
   "cell_type": "code",
   "execution_count": null,
   "id": "01dad4b0",
   "metadata": {},
   "outputs": [],
   "source": [
    "\n",
    "def get_daily_counts_EX(row, max_counter):\n",
    "    counter = row[\"EXITS\"] - row[\"PREV_EXITS\"]\n",
    "    if counter < 0:\n",
    "        counter = -counter\n",
    "    if counter > max_counter:\n",
    "        print(row[\"EXITS\"], row[\"PREV_EXITS\"])\n",
    "        return 0\n",
    "    return counter\n",
    "\n",
    "# If counter is > 100000, then the counter might have been reset.  \n",
    "# Just set it to zero as different counters have different cycle limits\n",
    "_ = turnstiles_daily_EX.apply(get_daily_counts_EX, axis=1, max_counter=100000)"
   ]
  },
  {
   "cell_type": "code",
   "execution_count": null,
   "id": "71d4fc22",
   "metadata": {},
   "outputs": [],
   "source": [
    "\n",
    "def get_daily_counts_EX(row, max_counter):\n",
    "    counter = row[\"EXITS\"] - row[\"PREV_EXITS\"]\n",
    "    if counter < 0:\n",
    "        # Maybe counter is reversed?\n",
    "        counter = -counter\n",
    "    if counter > max_counter:\n",
    "        # Maybe counter was reset to 0? \n",
    "        print(row[\"EXITS\"], row[\"PREV_EXITS\"])\n",
    "        counter = min(row[\"EXITS\"], row[\"PREV_EXITS\"])\n",
    "    if counter > max_counter:\n",
    "        # Check it again to make sure we're not still giving a counter that's too big\n",
    "        return 0\n",
    "    return counter\n",
    "\n",
    "# If counter is > 100000, then the counter might have been reset.  \n",
    "# Just set it to zero as different counters have different cycle limits\n",
    "# It'd probably be a good idea to use a number even significantly smaller than 1 million as the limit!\n",
    "turnstiles_daily_EX[\"DAILY_EXITS\"] = turnstiles_daily_EX.apply(get_daily_counts_EX, axis=1, max_counter=100000)"
   ]
  },
  {
   "cell_type": "markdown",
   "id": "e899bcb6",
   "metadata": {},
   "source": [
    "#### join\n",
    "\n",
    "after creating turnstiles_daily_En and turnstiles_daily_EX, we need to merge them to examing the trafic based on number of ENTRIES plus number of EXITS"
   ]
  },
  {
   "cell_type": "code",
   "execution_count": null,
   "id": "b9f320b3",
   "metadata": {},
   "outputs": [],
   "source": [
    "turnstiles_daily_EN.head(1)"
   ]
  },
  {
   "cell_type": "code",
   "execution_count": null,
   "id": "e0aa0d15",
   "metadata": {},
   "outputs": [],
   "source": [
    "turnstiles_daily_EX.head(1)"
   ]
  },
  {
   "cell_type": "code",
   "execution_count": null,
   "id": "772ac433",
   "metadata": {},
   "outputs": [],
   "source": [
    "# combining turnstiles_daily_EN with turnstiles_daily_EX in a one dataframe called turnstiles_daily \n",
    "\n",
    "turnstiles_daily = pd.merge(turnstiles_daily_EN, turnstiles_daily_EX, \n",
    "                            on=('C/A','UNIT','SCP','STATION','DATE','PREV_DATE'))\n",
    "\n",
    "turnstiles_daily"
   ]
  },
  {
   "cell_type": "code",
   "execution_count": null,
   "id": "7e41b30c",
   "metadata": {
    "scrolled": true
   },
   "outputs": [],
   "source": [
    "print(turnstiles_daily.columns)\n",
    "# Drop unneeded Columns.  To prevent errors in multiple run of cell, errors on drop is ignored\n",
    "turnstiles_daily = turnstiles_daily.drop([\"PREV_DATE\", \"PREV_ENTRIES\",\"PREV_EXITS\",\"ENTRIES\",\"EXITS\" ], axis=1, errors=\"ignore\")\n",
    "print(\"\\n\",turnstiles_daily.columns)\n",
    "print(\"\\n\", turnstiles_daily.shape)"
   ]
  },
  {
   "cell_type": "code",
   "execution_count": null,
   "id": "53aa5ad4",
   "metadata": {
    "scrolled": false
   },
   "outputs": [],
   "source": [
    "turnstiles_daily"
   ]
  },
  {
   "cell_type": "code",
   "execution_count": null,
   "id": "b3586615",
   "metadata": {
    "scrolled": true
   },
   "outputs": [],
   "source": [
    "turnstiles_daily['DAILY_TRAFFIC']= turnstiles_daily['DAILY_ENTRIES'] + turnstiles_daily['DAILY_EXITS']\n",
    "turnstiles_daily"
   ]
  },
  {
   "cell_type": "code",
   "execution_count": null,
   "id": "f7286eba",
   "metadata": {},
   "outputs": [],
   "source": [
    "turnstiles_daily = turnstiles_daily.drop(['DAILY_EXITS','DAILY_ENTRIES'], axis=1, errors=\"ignore\")\n",
    "turnstiles_daily"
   ]
  },
  {
   "cell_type": "code",
   "execution_count": null,
   "id": "983e2900",
   "metadata": {},
   "outputs": [],
   "source": [
    "# turnstiles_daily.mean('DAILY_TRAFFIC')\n",
    "\n",
    "turnstiles_daily.columns"
   ]
  },
  {
   "cell_type": "code",
   "execution_count": null,
   "id": "a6911d41",
   "metadata": {},
   "outputs": [],
   "source": [
    "turnstiles_daily.groupby('STATION').mean()\\\n",
    "    .sort_values('DAILY_TRAFFIC', ascending=False)\\\n",
    "    .reset_index().head(7)"
   ]
  },
  {
   "cell_type": "code",
   "execution_count": 40,
   "id": "5218b90b",
   "metadata": {},
   "outputs": [
    {
     "data": {
      "text/html": [
       "<div>\n",
       "<style scoped>\n",
       "    .dataframe tbody tr th:only-of-type {\n",
       "        vertical-align: middle;\n",
       "    }\n",
       "\n",
       "    .dataframe tbody tr th {\n",
       "        vertical-align: top;\n",
       "    }\n",
       "\n",
       "    .dataframe thead th {\n",
       "        text-align: right;\n",
       "    }\n",
       "</style>\n",
       "<table border=\"1\" class=\"dataframe\">\n",
       "  <thead>\n",
       "    <tr style=\"text-align: right;\">\n",
       "      <th></th>\n",
       "      <th>STATION</th>\n",
       "      <th>DAILY_TRAFFIC</th>\n",
       "    </tr>\n",
       "  </thead>\n",
       "  <tbody>\n",
       "    <tr>\n",
       "      <th>0</th>\n",
       "      <td>YORK ST</td>\n",
       "      <td>2574.867470</td>\n",
       "    </tr>\n",
       "    <tr>\n",
       "      <th>1</th>\n",
       "      <td>82 ST-JACKSON H</td>\n",
       "      <td>2364.881463</td>\n",
       "    </tr>\n",
       "    <tr>\n",
       "      <th>2</th>\n",
       "      <td>103 ST-CORONA</td>\n",
       "      <td>2355.796519</td>\n",
       "    </tr>\n",
       "    <tr>\n",
       "      <th>3</th>\n",
       "      <td>191 ST</td>\n",
       "      <td>2323.596386</td>\n",
       "    </tr>\n",
       "    <tr>\n",
       "      <th>4</th>\n",
       "      <td>MYRTLE AV</td>\n",
       "      <td>2051.530120</td>\n",
       "    </tr>\n",
       "    <tr>\n",
       "      <th>5</th>\n",
       "      <td>JUNCTION BLVD</td>\n",
       "      <td>1994.186992</td>\n",
       "    </tr>\n",
       "    <tr>\n",
       "      <th>6</th>\n",
       "      <td>JKSN HT-ROOSVLT</td>\n",
       "      <td>1989.076123</td>\n",
       "    </tr>\n",
       "  </tbody>\n",
       "</table>\n",
       "</div>"
      ],
      "text/plain": [
       "           STATION  DAILY_TRAFFIC\n",
       "0          YORK ST    2574.867470\n",
       "1  82 ST-JACKSON H    2364.881463\n",
       "2    103 ST-CORONA    2355.796519\n",
       "3           191 ST    2323.596386\n",
       "4        MYRTLE AV    2051.530120\n",
       "5    JUNCTION BLVD    1994.186992\n",
       "6  JKSN HT-ROOSVLT    1989.076123"
      ]
     },
     "execution_count": 40,
     "metadata": {},
     "output_type": "execute_result"
    }
   ],
   "source": [
    "#select the top 7 most crowded stations by counting the avrage daily traffic for each station in the 3 monthes\n",
    "\n",
    "\n",
    "Top_Stations= turnstiles_daily.groupby('STATION').mean()\\\n",
    "    .sort_values('DAILY_TRAFFIC', ascending=False)\\\n",
    "    .reset_index().head(7)\n",
    "\n",
    "Top_Stations"
   ]
  },
  {
   "cell_type": "code",
   "execution_count": null,
   "id": "97d8822e",
   "metadata": {},
   "outputs": [],
   "source": [
    "plt.figure(figsize=[15,6],edgecolor='red' )\n",
    "\n",
    "plt.title('The Top 7 Most Crowded Stations',fontsize = 30, weight = 'bold',color='#6495ED')\n",
    "\n",
    "plt.bar(Top_Stations['STATION'],Top_Stations['DAILY_TRAFFIC'], color=['#79BAEC','#ADDFFF','#ADDFFF','#A0CFEC','#ADDFFF','#B7CEEC','#B7CEEC', ]);\n",
    "plt.xlabel('Stations Names',fontsize = 20,color='#6495ED')\n",
    "plt.ylabel('The Average Of Traffic',fontsize = 20, color='#6495ED');\n",
    "\n"
   ]
  },
  {
   "cell_type": "markdown",
   "id": "12e6d334",
   "metadata": {},
   "source": [
    "#### I faced a lot of problems with my Jupyter so i decided to save turnstiles_daily as a csv file as a backup"
   ]
  },
  {
   "cell_type": "code",
   "execution_count": 38,
   "id": "d4ccf630",
   "metadata": {},
   "outputs": [],
   "source": [
    "\n",
    "turnstiles_daily.to_csv('turnstiles_daily.csv',index=False ) "
   ]
  },
  {
   "cell_type": "markdown",
   "id": "0e85b5e2",
   "metadata": {},
   "source": [
    "##### creating dataframe for each one of the top station\n",
    "I know there are an easer ways but I could not do more because of the Jupyter issue"
   ]
  },
  {
   "cell_type": "code",
   "execution_count": 69,
   "id": "aa3938ec",
   "metadata": {
    "scrolled": true
   },
   "outputs": [
    {
     "data": {
      "text/html": [
       "<div>\n",
       "<style scoped>\n",
       "    .dataframe tbody tr th:only-of-type {\n",
       "        vertical-align: middle;\n",
       "    }\n",
       "\n",
       "    .dataframe tbody tr th {\n",
       "        vertical-align: top;\n",
       "    }\n",
       "\n",
       "    .dataframe thead th {\n",
       "        text-align: right;\n",
       "    }\n",
       "</style>\n",
       "<table border=\"1\" class=\"dataframe\">\n",
       "  <thead>\n",
       "    <tr style=\"text-align: right;\">\n",
       "      <th></th>\n",
       "      <th>C/A</th>\n",
       "      <th>UNIT</th>\n",
       "      <th>SCP</th>\n",
       "      <th>STATION</th>\n",
       "      <th>DATE</th>\n",
       "      <th>DAY_NAME</th>\n",
       "      <th>DAILY_TRAFFIC</th>\n",
       "    </tr>\n",
       "  </thead>\n",
       "  <tbody>\n",
       "    <tr>\n",
       "      <th>208916</th>\n",
       "      <td>N530</td>\n",
       "      <td>R301</td>\n",
       "      <td>00-00-00</td>\n",
       "      <td>YORK ST</td>\n",
       "      <td>07/04/2021</td>\n",
       "      <td>Sunday</td>\n",
       "      <td>3757.0</td>\n",
       "    </tr>\n",
       "    <tr>\n",
       "      <th>208917</th>\n",
       "      <td>N530</td>\n",
       "      <td>R301</td>\n",
       "      <td>00-00-00</td>\n",
       "      <td>YORK ST</td>\n",
       "      <td>07/05/2021</td>\n",
       "      <td>Monday</td>\n",
       "      <td>5783.0</td>\n",
       "    </tr>\n",
       "    <tr>\n",
       "      <th>208918</th>\n",
       "      <td>N530</td>\n",
       "      <td>R301</td>\n",
       "      <td>00-00-00</td>\n",
       "      <td>YORK ST</td>\n",
       "      <td>07/06/2021</td>\n",
       "      <td>Tuesday</td>\n",
       "      <td>4275.0</td>\n",
       "    </tr>\n",
       "    <tr>\n",
       "      <th>208919</th>\n",
       "      <td>N530</td>\n",
       "      <td>R301</td>\n",
       "      <td>00-00-00</td>\n",
       "      <td>YORK ST</td>\n",
       "      <td>07/07/2021</td>\n",
       "      <td>Wednesday</td>\n",
       "      <td>4619.0</td>\n",
       "    </tr>\n",
       "    <tr>\n",
       "      <th>208920</th>\n",
       "      <td>N530</td>\n",
       "      <td>R301</td>\n",
       "      <td>00-00-00</td>\n",
       "      <td>YORK ST</td>\n",
       "      <td>07/08/2021</td>\n",
       "      <td>Thursday</td>\n",
       "      <td>5073.0</td>\n",
       "    </tr>\n",
       "    <tr>\n",
       "      <th>...</th>\n",
       "      <td>...</td>\n",
       "      <td>...</td>\n",
       "      <td>...</td>\n",
       "      <td>...</td>\n",
       "      <td>...</td>\n",
       "      <td>...</td>\n",
       "      <td>...</td>\n",
       "    </tr>\n",
       "    <tr>\n",
       "      <th>209160</th>\n",
       "      <td>N530</td>\n",
       "      <td>R301</td>\n",
       "      <td>00-00-02</td>\n",
       "      <td>YORK ST</td>\n",
       "      <td>09/20/2021</td>\n",
       "      <td>Monday</td>\n",
       "      <td>1036.0</td>\n",
       "    </tr>\n",
       "    <tr>\n",
       "      <th>209161</th>\n",
       "      <td>N530</td>\n",
       "      <td>R301</td>\n",
       "      <td>00-00-02</td>\n",
       "      <td>YORK ST</td>\n",
       "      <td>09/21/2021</td>\n",
       "      <td>Tuesday</td>\n",
       "      <td>1288.0</td>\n",
       "    </tr>\n",
       "    <tr>\n",
       "      <th>209162</th>\n",
       "      <td>N530</td>\n",
       "      <td>R301</td>\n",
       "      <td>00-00-02</td>\n",
       "      <td>YORK ST</td>\n",
       "      <td>09/22/2021</td>\n",
       "      <td>Wednesday</td>\n",
       "      <td>1430.0</td>\n",
       "    </tr>\n",
       "    <tr>\n",
       "      <th>209163</th>\n",
       "      <td>N530</td>\n",
       "      <td>R301</td>\n",
       "      <td>00-00-02</td>\n",
       "      <td>YORK ST</td>\n",
       "      <td>09/23/2021</td>\n",
       "      <td>Thursday</td>\n",
       "      <td>1320.0</td>\n",
       "    </tr>\n",
       "    <tr>\n",
       "      <th>209164</th>\n",
       "      <td>N530</td>\n",
       "      <td>R301</td>\n",
       "      <td>00-00-02</td>\n",
       "      <td>YORK ST</td>\n",
       "      <td>09/24/2021</td>\n",
       "      <td>Friday</td>\n",
       "      <td>1288.0</td>\n",
       "    </tr>\n",
       "  </tbody>\n",
       "</table>\n",
       "<p>249 rows × 7 columns</p>\n",
       "</div>"
      ],
      "text/plain": [
       "         C/A  UNIT       SCP  STATION        DATE   DAY_NAME  DAILY_TRAFFIC\n",
       "208916  N530  R301  00-00-00  YORK ST  07/04/2021     Sunday         3757.0\n",
       "208917  N530  R301  00-00-00  YORK ST  07/05/2021     Monday         5783.0\n",
       "208918  N530  R301  00-00-00  YORK ST  07/06/2021    Tuesday         4275.0\n",
       "208919  N530  R301  00-00-00  YORK ST  07/07/2021  Wednesday         4619.0\n",
       "208920  N530  R301  00-00-00  YORK ST  07/08/2021   Thursday         5073.0\n",
       "...      ...   ...       ...      ...         ...        ...            ...\n",
       "209160  N530  R301  00-00-02  YORK ST  09/20/2021     Monday         1036.0\n",
       "209161  N530  R301  00-00-02  YORK ST  09/21/2021    Tuesday         1288.0\n",
       "209162  N530  R301  00-00-02  YORK ST  09/22/2021  Wednesday         1430.0\n",
       "209163  N530  R301  00-00-02  YORK ST  09/23/2021   Thursday         1320.0\n",
       "209164  N530  R301  00-00-02  YORK ST  09/24/2021     Friday         1288.0\n",
       "\n",
       "[249 rows x 7 columns]"
      ]
     },
     "execution_count": 69,
     "metadata": {},
     "output_type": "execute_result"
    }
   ],
   "source": [
    "YORK_ST_df = turnstiles_daily[(turnstiles_daily['STATION']=='YORK ST')]  \n",
    "YORK_ST_df"
   ]
  },
  {
   "cell_type": "code",
   "execution_count": null,
   "id": "3563eb51",
   "metadata": {},
   "outputs": [],
   "source": [
    "ST_JACKSON_H_df = turnstiles_daily[(turnstiles_daily['STATION']=='82 ST-JACKSON H')]  \n",
    "ST_JACKSON_H_df"
   ]
  },
  {
   "cell_type": "code",
   "execution_count": null,
   "id": "d1e5a160",
   "metadata": {
    "scrolled": true
   },
   "outputs": [],
   "source": [
    "ST_CORONA_df = turnstiles_daily[(turnstiles_daily['STATION']=='103 ST-CORONA')]  \n",
    "ST_CORONA_df"
   ]
  },
  {
   "cell_type": "code",
   "execution_count": null,
   "id": "4bced514",
   "metadata": {
    "scrolled": true
   },
   "outputs": [],
   "source": [
    "ST_df = turnstiles_daily[(turnstiles_daily['STATION']=='191 ST')]  \n",
    "ST_df"
   ]
  },
  {
   "cell_type": "code",
   "execution_count": null,
   "id": "242bd36d",
   "metadata": {
    "scrolled": true
   },
   "outputs": [],
   "source": [
    "MYRTLE_AV_df = turnstiles_daily[(turnstiles_daily['STATION']=='MYRTLE AV')]  \n",
    "MYRTLE_AV_df"
   ]
  },
  {
   "cell_type": "code",
   "execution_count": null,
   "id": "8c4add61",
   "metadata": {
    "scrolled": true
   },
   "outputs": [],
   "source": [
    "JUNCTION_BLVD_df = turnstiles_daily[(turnstiles_daily['STATION']=='JUNCTION BLVD')]  \n",
    "JUNCTION_BLVD_df"
   ]
  },
  {
   "cell_type": "code",
   "execution_count": null,
   "id": "5e6eddaa",
   "metadata": {
    "scrolled": true
   },
   "outputs": [],
   "source": [
    "JKSN_HT_ROOSVLT_df = turnstiles_daily[(turnstiles_daily['STATION']=='JKSN HT-ROOSVLT')]  \n",
    "JKSN_HT_ROOSVLT_df"
   ]
  },
  {
   "cell_type": "markdown",
   "id": "84e92d54",
   "metadata": {},
   "source": [
    "# compare the traffic of each station in weak days\n",
    "\n"
   ]
  },
  {
   "cell_type": "code",
   "execution_count": 94,
   "id": "134241c0",
   "metadata": {
    "scrolled": true
   },
   "outputs": [
    {
     "data": {
      "text/html": [
       "<div>\n",
       "<style scoped>\n",
       "    .dataframe tbody tr th:only-of-type {\n",
       "        vertical-align: middle;\n",
       "    }\n",
       "\n",
       "    .dataframe tbody tr th {\n",
       "        vertical-align: top;\n",
       "    }\n",
       "\n",
       "    .dataframe thead th {\n",
       "        text-align: right;\n",
       "    }\n",
       "</style>\n",
       "<table border=\"1\" class=\"dataframe\">\n",
       "  <thead>\n",
       "    <tr style=\"text-align: right;\">\n",
       "      <th></th>\n",
       "      <th>DAY_NAME</th>\n",
       "      <th>DAILY_TRAFFIC</th>\n",
       "    </tr>\n",
       "  </thead>\n",
       "  <tbody>\n",
       "    <tr>\n",
       "      <th>0</th>\n",
       "      <td>Friday</td>\n",
       "      <td>2834.138889</td>\n",
       "    </tr>\n",
       "    <tr>\n",
       "      <th>1</th>\n",
       "      <td>Monday</td>\n",
       "      <td>1825.777778</td>\n",
       "    </tr>\n",
       "    <tr>\n",
       "      <th>2</th>\n",
       "      <td>Saturday</td>\n",
       "      <td>2918.696970</td>\n",
       "    </tr>\n",
       "    <tr>\n",
       "      <th>3</th>\n",
       "      <td>Sunday</td>\n",
       "      <td>2064.861111</td>\n",
       "    </tr>\n",
       "    <tr>\n",
       "      <th>4</th>\n",
       "      <td>Thursday</td>\n",
       "      <td>2878.555556</td>\n",
       "    </tr>\n",
       "    <tr>\n",
       "      <th>5</th>\n",
       "      <td>Tuesday</td>\n",
       "      <td>2619.361111</td>\n",
       "    </tr>\n",
       "    <tr>\n",
       "      <th>6</th>\n",
       "      <td>Wednesday</td>\n",
       "      <td>2911.333333</td>\n",
       "    </tr>\n",
       "  </tbody>\n",
       "</table>\n",
       "</div>"
      ],
      "text/plain": [
       "    DAY_NAME  DAILY_TRAFFIC\n",
       "0     Friday    2834.138889\n",
       "1     Monday    1825.777778\n",
       "2   Saturday    2918.696970\n",
       "3     Sunday    2064.861111\n",
       "4   Thursday    2878.555556\n",
       "5    Tuesday    2619.361111\n",
       "6  Wednesday    2911.333333"
      ]
     },
     "execution_count": 94,
     "metadata": {},
     "output_type": "execute_result"
    }
   ],
   "source": [
    "YORK_ST_df.groupby(['DAY_NAME'],as_index=False).mean('DAILY_TRAFFIC')"
   ]
  },
  {
   "cell_type": "code",
   "execution_count": null,
   "id": "7727d8bc",
   "metadata": {},
   "outputs": [],
   "source": [
    "plt.figure(figsize=[15,6])\n",
    "\n",
    "plt.title('The traffic in YORK ST station per days of week',fontsize = 30, weight = 'bold',color='#6495ED')\n",
    "\n",
    "plt.bar(YORK_ST_df['DAY_NAME'],YORK_ST_df['DAILY_TRAFFIC'], color=['#79BAEC','#ADDFFF','#ADDFFF','#A0CFEC','#ADDFFF','#B7CEEC','#B7CEEC', ]);\n",
    "plt.xlabel('Weak Days',fontsize = 20,color='#6495ED')\n",
    "plt.ylabel('The Traffic',fontsize = 20, color='#6495ED');\n",
    "\n",
    "plt.savefig('The traffic in YORK ST station per days of week.png')"
   ]
  },
  {
   "cell_type": "code",
   "execution_count": 92,
   "id": "47f80ce4",
   "metadata": {
    "scrolled": false
   },
   "outputs": [
    {
     "data": {
      "text/html": [
       "<div>\n",
       "<style scoped>\n",
       "    .dataframe tbody tr th:only-of-type {\n",
       "        vertical-align: middle;\n",
       "    }\n",
       "\n",
       "    .dataframe tbody tr th {\n",
       "        vertical-align: top;\n",
       "    }\n",
       "\n",
       "    .dataframe thead th {\n",
       "        text-align: right;\n",
       "    }\n",
       "</style>\n",
       "<table border=\"1\" class=\"dataframe\">\n",
       "  <thead>\n",
       "    <tr style=\"text-align: right;\">\n",
       "      <th></th>\n",
       "      <th>DAY_NAME</th>\n",
       "      <th>DAILY_TRAFFIC</th>\n",
       "    </tr>\n",
       "  </thead>\n",
       "  <tbody>\n",
       "    <tr>\n",
       "      <th>0</th>\n",
       "      <td>Friday</td>\n",
       "      <td>4076.765217</td>\n",
       "    </tr>\n",
       "    <tr>\n",
       "      <th>1</th>\n",
       "      <td>Monday</td>\n",
       "      <td>1384.669565</td>\n",
       "    </tr>\n",
       "    <tr>\n",
       "      <th>2</th>\n",
       "      <td>Saturday</td>\n",
       "      <td>2287.714286</td>\n",
       "    </tr>\n",
       "    <tr>\n",
       "      <th>3</th>\n",
       "      <td>Sunday</td>\n",
       "      <td>1859.852174</td>\n",
       "    </tr>\n",
       "    <tr>\n",
       "      <th>4</th>\n",
       "      <td>Thursday</td>\n",
       "      <td>2507.321739</td>\n",
       "    </tr>\n",
       "    <tr>\n",
       "      <th>5</th>\n",
       "      <td>Tuesday</td>\n",
       "      <td>2148.217391</td>\n",
       "    </tr>\n",
       "    <tr>\n",
       "      <th>6</th>\n",
       "      <td>Wednesday</td>\n",
       "      <td>2281.469027</td>\n",
       "    </tr>\n",
       "  </tbody>\n",
       "</table>\n",
       "</div>"
      ],
      "text/plain": [
       "    DAY_NAME  DAILY_TRAFFIC\n",
       "0     Friday    4076.765217\n",
       "1     Monday    1384.669565\n",
       "2   Saturday    2287.714286\n",
       "3     Sunday    1859.852174\n",
       "4   Thursday    2507.321739\n",
       "5    Tuesday    2148.217391\n",
       "6  Wednesday    2281.469027"
      ]
     },
     "execution_count": 92,
     "metadata": {},
     "output_type": "execute_result"
    }
   ],
   "source": [
    "ST_JACKSON_H_df.groupby(['DAY_NAME'],as_index=False).mean('DAILY_TRAFFIC')"
   ]
  },
  {
   "cell_type": "code",
   "execution_count": 93,
   "id": "8f4bec5f",
   "metadata": {
    "scrolled": true
   },
   "outputs": [
    {
     "data": {
      "image/png": "[encoded data removed]",
      "text/plain": [
       "<Figure size 1080x432 with 1 Axes>"
      ]
     },
     "metadata": {
      "needs_background": "light"
     },
     "output_type": "display_data"
    }
   ],
   "source": [
    "plt.figure(figsize=[15,6])\n",
    "\n",
    "plt.title('The traffic in ST_JACKSON_H_df station per days of week',fontsize = 30, weight = 'bold',color='#6495ED')\n",
    "\n",
    "plt.bar(ST_JACKSON_H_df['DAY_NAME'],ST_JACKSON_H_df['DAILY_TRAFFIC'], color=['#79BAEC','#ADDFFF','#ADDFFF','#A0CFEC','#ADDFFF','#B7CEEC','#B7CEEC', ]);\n",
    "plt.xlabel('Weak Days',fontsize = 20,color='#6495ED')\n",
    "plt.ylabel('The Traffic',fontsize = 20, color='#6495ED');\n",
    "\n",
    "plt.savefig('The traffic in ST_JACKSON_H_df station per days of week.png')"
   ]
  },
  {
   "cell_type": "code",
   "execution_count": null,
   "id": "05e3ee21",
   "metadata": {
    "scrolled": true
   },
   "outputs": [],
   "source": [
    "ST_CORONA_df.groupby(['DAY_NAME'],as_index=False).mean('DAILY_TRAFFIC')"
   ]
  },
  {
   "cell_type": "code",
   "execution_count": 96,
   "id": "9054e5f4",
   "metadata": {},
   "outputs": [
    {
     "data": {
      "image/png": "[encoded data removed]",
      "text/plain": [
       "<Figure size 1080x432 with 1 Axes>"
      ]
     },
     "metadata": {
      "needs_background": "light"
     },
     "output_type": "display_data"
    }
   ],
   "source": [
    "plt.figure(figsize=[15,6])\n",
    "\n",
    "plt.title('The traffic in ST_CORONA_df station per days of week',fontsize = 30, weight = 'bold',color='#6495ED')\n",
    "\n",
    "plt.bar(ST_CORONA_df['DAY_NAME'],ST_CORONA_df['DAILY_TRAFFIC'], color=['#79BAEC','#ADDFFF','#ADDFFF','#A0CFEC','#ADDFFF','#B7CEEC','#B7CEEC', ]);\n",
    "plt.xlabel('Weak Days',fontsize = 20,color='#6495ED')\n",
    "plt.ylabel('The Traffic',fontsize = 20, color='#6495ED');\n",
    "\n",
    "plt.savefig('The traffic in ST_CORONA_df station per days of week.png')"
   ]
  },
  {
   "cell_type": "code",
   "execution_count": null,
   "id": "c1663c0a",
   "metadata": {},
   "outputs": [],
   "source": [
    "ST_df.groupby(['DAY_NAME'],as_index=False).mean('DAILY_TRAFFIC')"
   ]
  },
  {
   "cell_type": "code",
   "execution_count": 97,
   "id": "bfaa0cb5",
   "metadata": {},
   "outputs": [
    {
     "data": {
      "image/png": "[encoded data removed]",
      "text/plain": [
       "<Figure size 1080x432 with 1 Axes>"
      ]
     },
     "metadata": {
      "needs_background": "light"
     },
     "output_type": "display_data"
    }
   ],
   "source": [
    "plt.figure(figsize=[15,6])\n",
    "\n",
    "plt.title('The traffic in ST_df station per days of week',fontsize = 30, weight = 'bold',color='#6495ED')\n",
    "\n",
    "plt.bar(ST_df['DAY_NAME'],ST_df['DAILY_TRAFFIC'], color=['#79BAEC','#ADDFFF','#ADDFFF','#A0CFEC','#ADDFFF','#B7CEEC','#B7CEEC', ]);\n",
    "plt.xlabel('Weak Days',fontsize = 20,color='#6495ED')\n",
    "plt.ylabel('The Traffic',fontsize = 20, color='#6495ED');\n",
    "\n",
    "plt.savefig('The traffic in ST_df station per days of week.png')\n"
   ]
  },
  {
   "cell_type": "code",
   "execution_count": null,
   "id": "291c2e65",
   "metadata": {
    "scrolled": false
   },
   "outputs": [],
   "source": [
    "MYRTLE_AV_df.groupby(['DAY_NAME'],as_index=False).mean('DAILY_TRAFFIC')"
   ]
  },
  {
   "cell_type": "code",
   "execution_count": 98,
   "id": "3ffacb70",
   "metadata": {},
   "outputs": [
    {
     "data": {
      "image/png": "[encoded data removed]",
      "text/plain": [
       "<Figure size 1080x432 with 1 Axes>"
      ]
     },
     "metadata": {
      "needs_background": "light"
     },
     "output_type": "display_data"
    }
   ],
   "source": [
    "plt.figure(figsize=[15,6])\n",
    "\n",
    "plt.title('The traffic in MYRTLE_AV_df station per days of week',fontsize = 30, weight = 'bold',color='#6495ED')\n",
    "\n",
    "plt.bar(MYRTLE_AV_df['DAY_NAME'],MYRTLE_AV_df['DAILY_TRAFFIC'], color=['#79BAEC','#ADDFFF','#ADDFFF','#A0CFEC','#ADDFFF','#B7CEEC','#B7CEEC', ]);\n",
    "plt.xlabel('Weak Days',fontsize = 20,color='#6495ED')\n",
    "plt.ylabel('The Traffic',fontsize = 20, color='#6495ED');\n",
    "\n",
    "plt.savefig('The traffic in MYRTLE_AV_df station per days of week.png')\n"
   ]
  },
  {
   "cell_type": "code",
   "execution_count": 83,
   "id": "4420a93e",
   "metadata": {},
   "outputs": [
    {
     "data": {
      "text/html": [
       "<div>\n",
       "<style scoped>\n",
       "    .dataframe tbody tr th:only-of-type {\n",
       "        vertical-align: middle;\n",
       "    }\n",
       "\n",
       "    .dataframe tbody tr th {\n",
       "        vertical-align: top;\n",
       "    }\n",
       "\n",
       "    .dataframe thead th {\n",
       "        text-align: right;\n",
       "    }\n",
       "</style>\n",
       "<table border=\"1\" class=\"dataframe\">\n",
       "  <thead>\n",
       "    <tr style=\"text-align: right;\">\n",
       "      <th></th>\n",
       "      <th>DAY_NAME</th>\n",
       "      <th>DAILY_TRAFFIC</th>\n",
       "    </tr>\n",
       "  </thead>\n",
       "  <tbody>\n",
       "    <tr>\n",
       "      <th>0</th>\n",
       "      <td>Friday</td>\n",
       "      <td>2129.275362</td>\n",
       "    </tr>\n",
       "    <tr>\n",
       "      <th>1</th>\n",
       "      <td>Monday</td>\n",
       "      <td>1474.138889</td>\n",
       "    </tr>\n",
       "    <tr>\n",
       "      <th>2</th>\n",
       "      <td>Saturday</td>\n",
       "      <td>2213.128788</td>\n",
       "    </tr>\n",
       "    <tr>\n",
       "      <th>3</th>\n",
       "      <td>Sunday</td>\n",
       "      <td>1818.687500</td>\n",
       "    </tr>\n",
       "    <tr>\n",
       "      <th>4</th>\n",
       "      <td>Thursday</td>\n",
       "      <td>2158.963768</td>\n",
       "    </tr>\n",
       "    <tr>\n",
       "      <th>5</th>\n",
       "      <td>Tuesday</td>\n",
       "      <td>1991.944444</td>\n",
       "    </tr>\n",
       "    <tr>\n",
       "      <th>6</th>\n",
       "      <td>Wednesday</td>\n",
       "      <td>2203.909722</td>\n",
       "    </tr>\n",
       "  </tbody>\n",
       "</table>\n",
       "</div>"
      ],
      "text/plain": [
       "    DAY_NAME  DAILY_TRAFFIC\n",
       "0     Friday    2129.275362\n",
       "1     Monday    1474.138889\n",
       "2   Saturday    2213.128788\n",
       "3     Sunday    1818.687500\n",
       "4   Thursday    2158.963768\n",
       "5    Tuesday    1991.944444\n",
       "6  Wednesday    2203.909722"
      ]
     },
     "execution_count": 83,
     "metadata": {},
     "output_type": "execute_result"
    }
   ],
   "source": [
    "JUNCTION_BLVD_df.groupby(['DAY_NAME'],as_index=False).mean('DAILY_TRAFFIC')"
   ]
  },
  {
   "cell_type": "code",
   "execution_count": 84,
   "id": "d49dbfde",
   "metadata": {},
   "outputs": [
    {
     "data": {
      "image/png": "[encoded data removed]",
      "text/plain": [
       "<Figure size 1080x432 with 1 Axes>"
      ]
     },
     "metadata": {
      "needs_background": "light"
     },
     "output_type": "display_data"
    }
   ],
   "source": [
    "plt.figure(figsize=[15,6])\n",
    "\n",
    "plt.title('The traffic in JUNCTION_BLVD_df station per days of week',fontsize = 30, weight = 'bold',color='#6495ED')\n",
    "\n",
    "plt.bar(JUNCTION_BLVD_df['DAY_NAME'],JUNCTION_BLVD_df['DAILY_TRAFFIC'], color=['#79BAEC','#ADDFFF','#ADDFFF','#A0CFEC','#ADDFFF','#B7CEEC','#B7CEEC', ]);\n",
    "plt.xlabel('Weak Days',fontsize = 20,color='#6495ED')\n",
    "plt.ylabel('The Traffic',fontsize = 20, color='#6495ED');\n",
    "\n",
    "plt.savefig('The traffic in JUNCTION_BLVD_df station per days of week.png')\n"
   ]
  },
  {
   "cell_type": "code",
   "execution_count": 85,
   "id": "cff38c7e",
   "metadata": {},
   "outputs": [
    {
     "data": {
      "text/html": [
       "<div>\n",
       "<style scoped>\n",
       "    .dataframe tbody tr th:only-of-type {\n",
       "        vertical-align: middle;\n",
       "    }\n",
       "\n",
       "    .dataframe tbody tr th {\n",
       "        vertical-align: top;\n",
       "    }\n",
       "\n",
       "    .dataframe thead th {\n",
       "        text-align: right;\n",
       "    }\n",
       "</style>\n",
       "<table border=\"1\" class=\"dataframe\">\n",
       "  <thead>\n",
       "    <tr style=\"text-align: right;\">\n",
       "      <th></th>\n",
       "      <th>DAY_NAME</th>\n",
       "      <th>DAILY_TRAFFIC</th>\n",
       "    </tr>\n",
       "  </thead>\n",
       "  <tbody>\n",
       "    <tr>\n",
       "      <th>0</th>\n",
       "      <td>Friday</td>\n",
       "      <td>2114.378788</td>\n",
       "    </tr>\n",
       "    <tr>\n",
       "      <th>1</th>\n",
       "      <td>Monday</td>\n",
       "      <td>1704.799242</td>\n",
       "    </tr>\n",
       "    <tr>\n",
       "      <th>2</th>\n",
       "      <td>Saturday</td>\n",
       "      <td>2152.247934</td>\n",
       "    </tr>\n",
       "    <tr>\n",
       "      <th>3</th>\n",
       "      <td>Sunday</td>\n",
       "      <td>1690.727273</td>\n",
       "    </tr>\n",
       "    <tr>\n",
       "      <th>4</th>\n",
       "      <td>Thursday</td>\n",
       "      <td>2134.924242</td>\n",
       "    </tr>\n",
       "    <tr>\n",
       "      <th>5</th>\n",
       "      <td>Tuesday</td>\n",
       "      <td>1993.628788</td>\n",
       "    </tr>\n",
       "    <tr>\n",
       "      <th>6</th>\n",
       "      <td>Wednesday</td>\n",
       "      <td>2146.424242</td>\n",
       "    </tr>\n",
       "  </tbody>\n",
       "</table>\n",
       "</div>"
      ],
      "text/plain": [
       "    DAY_NAME  DAILY_TRAFFIC\n",
       "0     Friday    2114.378788\n",
       "1     Monday    1704.799242\n",
       "2   Saturday    2152.247934\n",
       "3     Sunday    1690.727273\n",
       "4   Thursday    2134.924242\n",
       "5    Tuesday    1993.628788\n",
       "6  Wednesday    2146.424242"
      ]
     },
     "execution_count": 85,
     "metadata": {},
     "output_type": "execute_result"
    }
   ],
   "source": [
    "JKSN_HT_ROOSVLT_df.groupby(['DAY_NAME'],as_index=False).mean('DAILY_TRAFFIC')"
   ]
  },
  {
   "cell_type": "code",
   "execution_count": 86,
   "id": "46e678c8",
   "metadata": {},
   "outputs": [
    {
     "data": {
      "image/png": "[encoded data removed]",
      "text/plain": [
       "<Figure size 1080x432 with 1 Axes>"
      ]
     },
     "metadata": {
      "needs_background": "light"
     },
     "output_type": "display_data"
    }
   ],
   "source": [
    "plt.figure(figsize=[15,6])\n",
    "\n",
    "plt.title('The traffic in JKSN_HT_ROOSVLT_df station per days of week',fontsize = 30, weight = 'bold',color='#6495ED')\n",
    "\n",
    "plt.bar(JKSN_HT_ROOSVLT_df['DAY_NAME'],JKSN_HT_ROOSVLT_df['DAILY_TRAFFIC'], color=['#79BAEC','#ADDFFF','#ADDFFF','#A0CFEC','#ADDFFF','#B7CEEC','#B7CEEC', ]);\n",
    "plt.xlabel('Weak Days',fontsize = 20,color='#6495ED')\n",
    "plt.ylabel('The Traffic',fontsize = 20, color='#6495ED');\n",
    "\n",
    "plt.savefig('The traffic in JKSN_HT_ROOSVLT_df station per days of week.png')\n"
   ]
  },
  {
   "cell_type": "code",
   "execution_count": null,
   "id": "807b5bb7",
   "metadata": {},
   "outputs": [],
   "source": []
  }
 ],
 "metadata": {
  "kernelspec": {
   "display_name": "Python 3",
   "language": "python",
   "name": "python3"
  },
  "language_info": {
   "codemirror_mode": {
    "name": "ipython",
    "version": 3
   },
   "file_extension": ".py",
   "mimetype": "text/x-python",
   "name": "python",
   "nbconvert_exporter": "python",
   "pygments_lexer": "ipython3",
   "version": "3.8.8"
  }
 },
 "nbformat": 4,
 "nbformat_minor": 5
}
